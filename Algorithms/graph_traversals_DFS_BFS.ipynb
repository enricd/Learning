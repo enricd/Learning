{
 "cells": [
  {
   "cell_type": "code",
   "execution_count": 8,
   "metadata": {},
   "outputs": [
    {
     "name": "stdout",
     "output_type": "stream",
     "text": [
      "Node(A)\n",
      "Node(B)\n",
      "Node(D)\n",
      "Node(E)\n",
      "Node(C)\n",
      "Node(F)\n",
      "Node(G)\n",
      "\n",
      "Node(A)\n",
      "Node(B)\n",
      "Node(D)\n",
      "Node(E)\n",
      "Node(C)\n",
      "Node(F)\n",
      "Node(G)\n"
     ]
    },
    {
     "data": {
      "text/plain": [
       "(None, None, None)"
      ]
     },
     "execution_count": 8,
     "metadata": {},
     "output_type": "execute_result"
    }
   ],
   "source": [
    "class Node:\n",
    "    def __init__(self, value, left=None, right=None):\n",
    "        self.value = value\n",
    "        self.left = left\n",
    "        self.right = right\n",
    "    \n",
    "    def __str__(self):\n",
    "        return f\"Node({self.value})\"\n",
    "\n",
    "\n",
    "# Depth First Search\n",
    "def walk(tree):\n",
    "    if tree is not None:\n",
    "        print(tree)\n",
    "        walk(tree.left)\n",
    "        walk(tree.right)\n",
    "\n",
    "\n",
    "def walk2(tree, stack):\n",
    "    stack.append(tree)\n",
    "    while len(stack) > 0:\n",
    "        node = stack.pop()\n",
    "        if node is not None:\n",
    "            print(node)\n",
    "            stack.append(node.right)\n",
    "            stack.append(node.left)\n",
    "\n",
    "my_tree = Node(\"A\", Node(\"B\", Node(\"D\"), Node(\"E\")), Node(\"C\", Node(\"F\"), Node(\"G\")))\n",
    "\n",
    "\"\"\"\n",
    "    A\n",
    "   / \\ \n",
    "  B   C\n",
    " / \\ / \\ \n",
    "D  E F  G \n",
    "\"\"\"\n",
    "\n",
    "walk(my_tree), print(\"\"), walk2(my_tree, [])"
   ]
  },
  {
   "cell_type": "code",
   "execution_count": 9,
   "metadata": {},
   "outputs": [
    {
     "data": {
      "text/plain": [
       "['A', 'B', 'D', 'C', 'E', 'F', 'G', 'H']"
      ]
     },
     "execution_count": 9,
     "metadata": {},
     "output_type": "execute_result"
    }
   ],
   "source": [
    "# Breath First Search\n",
    "\n",
    "from queue import Queue\n",
    "\n",
    "graph = {\n",
    "    \"A\": [\"B\", \"D\"],\n",
    "    \"B\": [\"A\", \"C\"],\n",
    "    \"C\": [\"B\"],\n",
    "    \"D\": [\"A\", \"E\", \"F\"],\n",
    "    \"E\": [\"D\", \"F\", \"G\"],\n",
    "    \"F\": [\"D\", \"E\", \"H\"],\n",
    "    \"G\": [\"E\", \"H\"],\n",
    "    \"H\": [\"G\", \"F\"],\n",
    "}\n",
    "\n",
    "def bfs(graph, start):\n",
    "    # init\n",
    "    visited = {}\n",
    "    level = {}\n",
    "    parent = {}\n",
    "    bfs_traversal_output = []\n",
    "    queue = Queue()\n",
    "\n",
    "    for node in graph.keys():\n",
    "        visited[node] = False\n",
    "        parent[node] = None\n",
    "        level[node] = -1  # inf\n",
    "\n",
    "    start = \"A\"\n",
    "    visited[start] = True\n",
    "    level[start] = 0\n",
    "    queue.put(start)\n",
    "\n",
    "    # bfs\n",
    "    while not queue.empty():\n",
    "        u = queue.get()\n",
    "        bfs_traversal_output.append(u)\n",
    "\n",
    "        for v in graph[u]:\n",
    "            if not visited[v]:\n",
    "                visited[v] = True\n",
    "                level[v] = level[u] + 1\n",
    "                parent[v] = u\n",
    "                queue.put(v)\n",
    "\n",
    "    return bfs_traversal_output\n",
    "\n",
    "\n",
    "bfs(graph, \"A\")"
   ]
  }
 ],
 "metadata": {
  "kernelspec": {
   "display_name": "Python 3.10.4 64-bit",
   "language": "python",
   "name": "python3"
  },
  "language_info": {
   "codemirror_mode": {
    "name": "ipython",
    "version": 3
   },
   "file_extension": ".py",
   "mimetype": "text/x-python",
   "name": "python",
   "nbconvert_exporter": "python",
   "pygments_lexer": "ipython3",
   "version": "3.10.4"
  },
  "orig_nbformat": 4,
  "vscode": {
   "interpreter": {
    "hash": "1fa163922eb0b3709bbb5d8082b2465c9de796dbaacca80cbaa600e7fff3e4fe"
   }
  }
 },
 "nbformat": 4,
 "nbformat_minor": 2
}
