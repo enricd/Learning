{
 "cells": [
  {
   "cell_type": "markdown",
   "metadata": {},
   "source": [
    "## Reverse Linked List\n",
    "\n",
    "**Example:**  \n",
    "Input: 1->2->3->4->5->NULL  \n",
    "Output: 5->4->3->2->1->NULL\n",
    "\n",
    "This can be done in two ways: **iteratively** or **recursively**"
   ]
  },
  {
   "cell_type": "code",
   "execution_count": null,
   "metadata": {},
   "outputs": [],
   "source": [
    "# --- Iteratively ---\n",
    "\n",
    "# Have two pointers: prev and curr, curr will take the current node and will break the link\n",
    "# from the following node to the previous node (starting at null). Following node will need \n",
    "# to be stored before this to not lose it.\n",
    "\n",
    "# Definition for singly-linked list.\n",
    "class ListNode:\n",
    "    def __init__(self, val=0, next=None):\n",
    "        self.val = val\n",
    "        self.next = next\n",
    "\n",
    "class IterativeSolution:\n",
    "    def reverse_list(self, head: ListNode) -> ListNode:\n",
    "        # T O(n); M O(1)\n",
    "        prev, curr = None, head\n",
    "\n",
    "        while curr:\n",
    "            nxt = curr.next\n",
    "            curr.next = prev\n",
    "            prev = curr\n",
    "            curr = nxt\n",
    "        return prev\n",
    "\n",
    "\n",
    "# --- Recursively ---\n",
    "\n",
    "# For every head of a Linked List reverse the remaining list in recursive way\n",
    "\n",
    "class RecursiveSolution:\n",
    "    def reverse_list(self, head: ListNode) -> ListNode:\n",
    "        # T O(n); M O(n)\n",
    "\n",
    "        # Base case\n",
    "        if not head:       \n",
    "            return None\n",
    "\n",
    "        new_head = head\n",
    "        if head.next:\n",
    "            new_head = self.reverseList(head.next)\n",
    "            head.next.next = head\n",
    "        head.next = None\n",
    "\n",
    "        return new_head"
   ]
  },
  {
   "cell_type": "code",
   "execution_count": 6,
   "metadata": {},
   "outputs": [
    {
     "name": "stdout",
     "output_type": "stream",
     "text": [
      "[1, 2, 3]\n",
      "[2, 3, 4]\n"
     ]
    }
   ],
   "source": [
    "d = {1: [1,2,3], 2:[2,3,4]}\n",
    "\n",
    "for v in d.values():\n",
    "    print(v)"
   ]
  }
 ],
 "metadata": {
  "kernelspec": {
   "display_name": "Python 3.10.4 64-bit",
   "language": "python",
   "name": "python3"
  },
  "language_info": {
   "codemirror_mode": {
    "name": "ipython",
    "version": 3
   },
   "file_extension": ".py",
   "mimetype": "text/x-python",
   "name": "python",
   "nbconvert_exporter": "python",
   "pygments_lexer": "ipython3",
   "version": "3.10.4"
  },
  "orig_nbformat": 4,
  "vscode": {
   "interpreter": {
    "hash": "1fa163922eb0b3709bbb5d8082b2465c9de796dbaacca80cbaa600e7fff3e4fe"
   }
  }
 },
 "nbformat": 4,
 "nbformat_minor": 2
}
