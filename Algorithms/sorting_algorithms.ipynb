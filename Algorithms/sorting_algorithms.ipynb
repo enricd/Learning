{
 "cells": [
  {
   "cell_type": "markdown",
   "metadata": {},
   "source": [
    "# Simple\n",
    "----\n",
    "## 1. Insertion Sort\n",
    "Time O(n^2)  \n",
    "Mem O(1)"
   ]
  },
  {
   "cell_type": "code",
   "execution_count": 1,
   "metadata": {},
   "outputs": [],
   "source": [
    "from time import time"
   ]
  },
  {
   "cell_type": "code",
   "execution_count": 2,
   "metadata": {},
   "outputs": [
    {
     "data": {
      "text/plain": [
       "[1, 2, 3, 5, 7]"
      ]
     },
     "execution_count": 2,
     "metadata": {},
     "output_type": "execute_result"
    }
   ],
   "source": [
    "nums = [3, 5, 2, 1, 7]\n",
    "\n",
    "def insertion_sort(nums):\n",
    "    for i in range(1, len(nums)):\n",
    "        curr = nums.pop(i)\n",
    "        j = 0\n",
    "        while j < i and curr > nums[j]:\n",
    "            j += 1\n",
    "        nums.insert(j, curr)\n",
    "    \n",
    "    return nums\n",
    "\n",
    "insertion_sort(nums)"
   ]
  },
  {
   "cell_type": "markdown",
   "metadata": {},
   "source": [
    "## 2. Selection Sort\n",
    "Time O(n^2)  \n",
    "Mem O(1)"
   ]
  },
  {
   "cell_type": "code",
   "execution_count": 51,
   "metadata": {},
   "outputs": [
    {
     "data": {
      "text/plain": [
       "[1, 2, 3, 5, 7]"
      ]
     },
     "execution_count": 51,
     "metadata": {},
     "output_type": "execute_result"
    }
   ],
   "source": [
    "nums = [3, 5, 2, 1, 7]\n",
    "\n",
    "def selection_sort(nums):\n",
    "    for i in range(0, len(nums)):\n",
    "        sub_min = min(nums[i:])\n",
    "        nums.remove(sub_min)\n",
    "        nums.insert(i, sub_min)\n",
    "\n",
    "    return nums\n",
    "\n",
    "selection_sort(nums)\n"
   ]
  },
  {
   "cell_type": "markdown",
   "metadata": {},
   "source": [
    "# Efficient\n",
    "----\n",
    "## 3. Quick Sort (pivots)\n",
    "Time O(n^2)  \n",
    "Mem O(log(n))\n"
   ]
  },
  {
   "cell_type": "code",
   "execution_count": 49,
   "metadata": {},
   "outputs": [
    {
     "data": {
      "text/plain": [
       "[1, 2, 3, 3, 4, 6, 7, 7, 8]"
      ]
     },
     "execution_count": 49,
     "metadata": {},
     "output_type": "execute_result"
    }
   ],
   "source": [
    "nums = [4, 3, 6, 7, 2, 3, 7, 8, 1]\n",
    "\n",
    "def quick_sort(nums):\n",
    "    if len(nums) <= 1:\n",
    "        return nums\n",
    "    else:\n",
    "        pivot = nums.pop()\n",
    "\n",
    "    items_greater = []\n",
    "    items_lower = []\n",
    "\n",
    "    for item in nums:\n",
    "        if item > pivot:\n",
    "            items_greater.append(item)\n",
    "        else:\n",
    "            items_lower.append(item)\n",
    "\n",
    "    return quick_sort(items_lower) + [pivot] + quick_sort(items_greater)\n",
    "\n",
    "quick_sort(nums)"
   ]
  },
  {
   "cell_type": "markdown",
   "metadata": {},
   "source": [
    "## 4. Merge Sort (binary tree)\n",
    "\n",
    "Time O(n*log(n))  \n",
    "Mem O(n)"
   ]
  },
  {
   "cell_type": "code",
   "execution_count": 54,
   "metadata": {},
   "outputs": [
    {
     "data": {
      "text/plain": [
       "[1, 2, 2, 4, 5, 5, 6, 7, 7, 8, 9]"
      ]
     },
     "execution_count": 54,
     "metadata": {},
     "output_type": "execute_result"
    }
   ],
   "source": [
    "nums = [2, 4, 5, 6, 7, 7, 8, 9, 1, 2, 5]\n",
    "\n",
    "def merge_sort(nums):\n",
    "    if len(nums) > 1:\n",
    "        left = nums[:len(nums)//2]\n",
    "        right = nums[len(nums)//2:]\n",
    "\n",
    "        # recursion\n",
    "        merge_sort(left)\n",
    "        merge_sort(right)\n",
    "\n",
    "        # merge\n",
    "        l = 0  # left array index\n",
    "        r = 0  # right array index\n",
    "        k = 0  # merged array index\n",
    "\n",
    "        while l < len(left) and r < len(right):\n",
    "            if left[l] < right[r]:\n",
    "                nums[k] = left[l]\n",
    "                l += 1\n",
    "            else:\n",
    "                nums[k] = right[r]\n",
    "                r += 1\n",
    "            k += 1\n",
    "\n",
    "        while l < len(left):\n",
    "            nums[k] = left[l]\n",
    "            l += 1\n",
    "            k += 1\n",
    "\n",
    "        while r < len(right):\n",
    "            nums[k] = right[r]\n",
    "            r += 1\n",
    "            k += 1\n",
    "\n",
    "        return nums\n",
    "\n",
    "merge_sort(nums)"
   ]
  },
  {
   "cell_type": "markdown",
   "metadata": {},
   "source": [
    "# Bubble\n",
    "----\n",
    "## 4. Bubble Sort\n",
    "\n",
    "Time O(n^2)  \n",
    "Mem O(1)"
   ]
  },
  {
   "cell_type": "code",
   "execution_count": 55,
   "metadata": {},
   "outputs": [
    {
     "data": {
      "text/plain": [
       "[1, 1, 2, 3, 3, 4, 5, 7, 8, 9]"
      ]
     },
     "execution_count": 55,
     "metadata": {},
     "output_type": "execute_result"
    }
   ],
   "source": [
    "nums = [5, 7, 1, 3, 2, 1, 8, 4, 3, 9]\n",
    "\n",
    "def bubble_sort(nums):\n",
    "    indexing_length = len(nums) - 1\n",
    "    sorted = False\n",
    "\n",
    "    while not sorted:\n",
    "        sorted = True\n",
    "        for i in range(indexing_length):\n",
    "            if nums[i] > nums[i+1]:\n",
    "                sorted = False\n",
    "                nums[i], nums[i+1] = nums[i+1], nums[i]\n",
    "\n",
    "    return nums\n",
    "\n",
    "bubble_sort(nums)"
   ]
  }
 ],
 "metadata": {
  "kernelspec": {
   "display_name": "Python 3",
   "language": "python",
   "name": "python3"
  },
  "language_info": {
   "codemirror_mode": {
    "name": "ipython",
    "version": 3
   },
   "file_extension": ".py",
   "mimetype": "text/x-python",
   "name": "python",
   "nbconvert_exporter": "python",
   "pygments_lexer": "ipython3",
   "version": "3.11.0"
  },
  "orig_nbformat": 4,
  "vscode": {
   "interpreter": {
    "hash": "3d1899a6c99b9db7e131d4b74e4e1b4f8aa84cf78ca3d48624777d2707d0553f"
   }
  }
 },
 "nbformat": 4,
 "nbformat_minor": 2
}
