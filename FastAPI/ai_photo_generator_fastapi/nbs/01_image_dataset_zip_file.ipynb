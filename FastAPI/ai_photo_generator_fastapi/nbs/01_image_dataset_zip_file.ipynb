{
 "cells": [
  {
   "cell_type": "code",
   "execution_count": 1,
   "metadata": {},
   "outputs": [],
   "source": [
    "from pathlib import Path\n",
    "import mimetypes\n",
    "import shutil\n",
    "import tempfile\n",
    "from PIL import Image, ImageOps"
   ]
  },
  {
   "cell_type": "code",
   "execution_count": 10,
   "metadata": {},
   "outputs": [
    {
     "data": {
      "text/plain": [
       "WindowsPath('C:/Code/Learning/FastAPI/ai_photo_generator_fastapi/data/outputs')"
      ]
     },
     "execution_count": 10,
     "metadata": {},
     "output_type": "execute_result"
    }
   ],
   "source": [
    "NBS_DIR = Path().resolve()\n",
    "REPO_DIR = NBS_DIR.parent\n",
    "DATA_DIR = NBS_DIR.parent / \"data\"\n",
    "INPUTS_DIR = DATA_DIR / \"inputs\"\n",
    "READY_DIR = DATA_DIR / \"ready\"\n",
    "OUTPUTS_DIR = DATA_DIR / \"outputs\"\n",
    "OUTPUTS_DIR"
   ]
  },
  {
   "cell_type": "code",
   "execution_count": 11,
   "metadata": {},
   "outputs": [],
   "source": [
    "def perform_clear_and_optimize_image(image_path, output_path, max_size=(1920, 1920)):\n",
    "    \"\"\"\n",
    "    Removes all metadata from an image (e.g. EXIF data).\n",
    "    Optimizes the image file size while preserving quality and \n",
    "    transparency when needed.\n",
    "    \"\"\"\n",
    "    # Convert to path objs\n",
    "    image_path = Path(image_path)\n",
    "    output_path = Path(output_path)\n",
    "\n",
    "    # Open and create clean copy\n",
    "    original = Image.open(image_path)\n",
    "\n",
    "    # Determine if image has transparency\n",
    "    has_transparency = (\n",
    "        original.mode in (\"RGBA\", \"LA\")\n",
    "        or (original.mode == \"P\" and \"transparency\" in original.info)\n",
    "    )\n",
    "\n",
    "    # Auto-rotate based on EXIF\n",
    "    original = ImageOps.exif_transpose(original)\n",
    "\n",
    "    # Resize if larger than max_size while maintaining aspect ratio\n",
    "    if original.size[0] > max_size[0] or original.size[1] > max_size[1]:\n",
    "        original.thumbnail(max_size, Image.Resampling.LANCZOS)\n",
    "\n",
    "    # Convert mode based on transparency\n",
    "    if has_transparency:\n",
    "        if original.mode != \"RGBA\":\n",
    "            original = original.convert(\"RGBA\")\n",
    "        best_format = \"PNG\"\n",
    "    else:\n",
    "        if original.mode in (\"RGBA\", \"P\", \"LA\"):\n",
    "            original = original.convert(\"RGB\")\n",
    "        best_format = \"JPEG\"\n",
    "\n",
    "    # Save with optimized settings\n",
    "    save_kwargs = {}\n",
    "    if best_format == \"JPEG\":\n",
    "        save_kwargs.update({\n",
    "            \"quality\": 85,\n",
    "            \"optimize\": True,\n",
    "            \"progressive\": True,\n",
    "        })\n",
    "        output_path = output_path.with_suffix(\".jpg\")\n",
    "    elif best_format == \"PNG\":\n",
    "        save_kwargs.update({\n",
    "            \"optimize\": True,\n",
    "            \"compress_level\": 6,\n",
    "        })\n",
    "        output_path = output_path.with_suffix(\".png\")\n",
    "    print(f\"Saving {output_path}...\")\n",
    "    original.save(output_path, format=best_format, **save_kwargs)\n",
    "    \n",
    "    return output_path\n",
    "\n",
    "    "
   ]
  },
  {
   "cell_type": "code",
   "execution_count": 12,
   "metadata": {},
   "outputs": [],
   "source": [
    "def perform_is_image(path: Path, require_can_open: bool = True):\n",
    "    try:\n",
    "        guessed_type, encoding = mimetypes.guess_type(path)\n",
    "    except:\n",
    "        guessed_type = \"\"\n",
    "    print(path.name, guessed_type, encoding)\n",
    "    guessed_image = \"image\" in guessed_type\n",
    "\n",
    "    if \"image\" not in guessed_type:\n",
    "        return False\n",
    "    if guessed_image and require_can_open:\n",
    "        try:\n",
    "            Image.open(path)\n",
    "        except:\n",
    "            return False\n",
    "    return True"
   ]
  },
  {
   "cell_type": "code",
   "execution_count": null,
   "metadata": {},
   "outputs": [],
   "source": [
    "images_file_paths = []\n",
    "\n",
    "for file_path in INPUTS_DIR.glob(\"*\"):\n",
    "    is_image = perform_is_image(file_path)\n",
    "    if not is_image:\n",
    "        continue\n",
    "    start_output_path = READY_DIR / file_path.name\n",
    "    final_output_path = perform_clear_and_optimize_image(file_path, start_output_path)\n",
    "    images_file_paths.append(file_path)"
   ]
  },
  {
   "cell_type": "code",
   "execution_count": null,
   "metadata": {},
   "outputs": [],
   "source": [
    "images_file_paths"
   ]
  },
  {
   "cell_type": "code",
   "execution_count": 18,
   "metadata": {},
   "outputs": [],
   "source": [
    "OUTPUTS_DIR.mkdir(exist_ok=True, parents=True)"
   ]
  },
  {
   "cell_type": "code",
   "execution_count": 19,
   "metadata": {},
   "outputs": [
    {
     "data": {
      "text/plain": [
       "True"
      ]
     },
     "execution_count": 19,
     "metadata": {},
     "output_type": "execute_result"
    }
   ],
   "source": [
    "zip_outpath = OUTPUTS_DIR / \"images.zip\"\n",
    "zip_outpath.exists()"
   ]
  },
  {
   "cell_type": "code",
   "execution_count": 20,
   "metadata": {},
   "outputs": [],
   "source": [
    "with tempfile.TemporaryDirectory() as temp_dir:\n",
    "    for path in images_file_paths:\n",
    "        shutil.copy(path, temp_dir)\n",
    "    shutil.make_archive(zip_outpath.with_suffix(\"\"), \"zip\", temp_dir)\n"
   ]
  },
  {
   "cell_type": "code",
   "execution_count": null,
   "metadata": {},
   "outputs": [],
   "source": []
  }
 ],
 "metadata": {
  "kernelspec": {
   "display_name": ".venv",
   "language": "python",
   "name": "python3"
  },
  "language_info": {
   "codemirror_mode": {
    "name": "ipython",
    "version": 3
   },
   "file_extension": ".py",
   "mimetype": "text/x-python",
   "name": "python",
   "nbconvert_exporter": "python",
   "pygments_lexer": "ipython3",
   "version": "3.13.1"
  }
 },
 "nbformat": 4,
 "nbformat_minor": 2
}
