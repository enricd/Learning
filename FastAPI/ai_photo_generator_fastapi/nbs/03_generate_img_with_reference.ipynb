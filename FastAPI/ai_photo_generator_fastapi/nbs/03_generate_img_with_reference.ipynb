{
 "cells": [
  {
   "cell_type": "code",
   "execution_count": 1,
   "metadata": {},
   "outputs": [],
   "source": [
    "import pathlib\n",
    "import random\n",
    "from decouple import config\n",
    "from replicate.client import Client\n",
    "\n",
    "NBS_DIR = pathlib.Path().resolve()\n",
    "REPO_DIR = NBS_DIR.parent\n",
    "DATA_DIR = REPO_DIR / \"data\"\n",
    "GENERATED_DIR = DATA_DIR / \"generated\"\n",
    "GENERATED_DIR.mkdir(exist_ok=True, parents=True)\n",
    "REFERENCES_DIR = DATA_DIR / \"references\"\n",
    "REFERENCES_DIR.mkdir(exist_ok=True, parents=True)"
   ]
  },
  {
   "cell_type": "code",
   "execution_count": 2,
   "metadata": {},
   "outputs": [],
   "source": [
    "REPLICATE_API_TOKEN = config(\"REPLICATE_API_TOKEN\")\n",
    "REPLICATE_MODEL = config(\"REPLICATE_MODEL\", default=\"enricd/superme-enricd-v1\")\n",
    "REPLICATE_MODEL_VERSION = config(\"REPLICATE_MODEL_VERSION\", default=\"50ed285c7114c60eb8a564084ae68f813134144377caf86741e3d1a9de90131d\")\n",
    "\n",
    "replicate_client = Client(api_token=REPLICATE_API_TOKEN)"
   ]
  },
  {
   "cell_type": "code",
   "execution_count": 15,
   "metadata": {},
   "outputs": [
    {
     "name": "stdout",
     "output_type": "stream",
     "text": [
      "[<replicate.helpers.FileOutput object at 0x0000028628BEBD90>, <replicate.helpers.FileOutput object at 0x0000028628BEBED0>]\n"
     ]
    }
   ],
   "source": [
    "model = f\"{REPLICATE_MODEL}:{REPLICATE_MODEL_VERSION}\"\n",
    "prompt = \"a photo of TOK adult man dressed up as Legolas from Lord of the Rings\"\n",
    "\n",
    "reference_image_path = REFERENCES_DIR / \"legolas.png\"\n",
    "image = open(reference_image_path, \"rb\")\n",
    "\n",
    "responses = replicate_client.run(\n",
    "    model,\n",
    "    input={\n",
    "        \"image\": image,\n",
    "        \"model\": \"dev\",\n",
    "        \"prompt\": prompt,\n",
    "        \"go_fast\": False,\n",
    "        # \"lora_scale\": 1,\n",
    "        \"megapixels\": \"1\",\n",
    "        \"num_outputs\": 2,\n",
    "        # \"aspect_ratio\": \"1:1\",\n",
    "        \"output_format\": \"jpg\",\n",
    "        # \"guidance_scale\": 3,\n",
    "        # \"output_quality\": 80,\n",
    "        # \"prompt_strength\": 0.8,\n",
    "        # \"extra_lora_scale\": 1,\n",
    "        # \"num_inference_steps\": 28\n",
    "    }\n",
    ")\n",
    "image.close()\n",
    "print(responses)"
   ]
  },
  {
   "cell_type": "code",
   "execution_count": null,
   "metadata": {},
   "outputs": [
    {
     "name": "stdout",
     "output_type": "stream",
     "text": [
      "0 https://replicate.delivery/xezq/AVIVyN41u05GAheazi6SiUUmwZlRwMS2t9urzPGHpIsBdBIKA/out-0.jpg\n",
      "1 https://replicate.delivery/xezq/oNMc2UeYPpVDY6oKhjIyJ4bA2bZOcpfznKxw7D0SCFcD6CQUA/out-1.jpg\n"
     ]
    },
    {
     "ename": "",
     "evalue": "",
     "output_type": "error",
     "traceback": [
      "\u001b[1;31mThe Kernel crashed while executing code in the current cell or a previous cell. \n",
      "\u001b[1;31mPlease review the code in the cell(s) to identify a possible cause of the failure. \n",
      "\u001b[1;31mClick <a href='https://aka.ms/vscodeJupyterKernelCrash'>here</a> for more info. \n",
      "\u001b[1;31mView Jupyter <a href='command:jupyter.viewOutput'>log</a> for further details."
     ]
    }
   ],
   "source": [
    "session_id = random.randint(10000, 99999)\n",
    "for i, output in enumerate(responses):\n",
    "    fname = f\"{session_id}-{i}.jpg\"\n",
    "    outpath = GENERATED_DIR / fname\n",
    "    with open(outpath, \"wb\") as f:\n",
    "        f.write(output.read())\n",
    "\n",
    "    print(i, output)"
   ]
  },
  {
   "cell_type": "code",
   "execution_count": null,
   "metadata": {},
   "outputs": [],
   "source": []
  }
 ],
 "metadata": {
  "kernelspec": {
   "display_name": ".venv",
   "language": "python",
   "name": "python3"
  },
  "language_info": {
   "codemirror_mode": {
    "name": "ipython",
    "version": 3
   },
   "file_extension": ".py",
   "mimetype": "text/x-python",
   "name": "python",
   "nbconvert_exporter": "python",
   "pygments_lexer": "ipython3",
   "version": "3.13.1"
  }
 },
 "nbformat": 4,
 "nbformat_minor": 2
}
