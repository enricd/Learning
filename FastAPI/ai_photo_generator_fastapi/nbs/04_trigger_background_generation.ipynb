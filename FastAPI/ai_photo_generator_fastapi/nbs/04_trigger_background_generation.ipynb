{
 "cells": [
  {
   "cell_type": "code",
   "execution_count": 1,
   "metadata": {},
   "outputs": [],
   "source": [
    "import pathlib\n",
    "import random\n",
    "from decouple import config\n",
    "from replicate.client import Client"
   ]
  },
  {
   "cell_type": "code",
   "execution_count": 2,
   "metadata": {},
   "outputs": [],
   "source": [
    "NBS_DIR = pathlib.Path().resolve()\n",
    "REPO_DIR = NBS_DIR.parent\n",
    "DATA_DIR = REPO_DIR / \"data\"\n",
    "GENERATED_DIR = DATA_DIR / \"generated\"\n",
    "GENERATED_DIR.mkdir(exist_ok=True, parents=True)\n",
    "REPLICATE_API_TOKEN = config(\"REPLICATE_API_TOKEN\")\n",
    "REPLICATE_MODEL = config(\"REPLICATE_MODEL\", default=\"enricd/superme-enricd-v1\")\n",
    "REPLICATE_MODEL_VERSION = config(\"REPLICATE_MODEL_VERSION\", default=\"50ed285c7114c60eb8a564084ae68f813134144377caf86741e3d1a9de90131d\")\n",
    "\n",
    "replicate_client = Client(api_token=REPLICATE_API_TOKEN)"
   ]
  },
  {
   "cell_type": "code",
   "execution_count": null,
   "metadata": {},
   "outputs": [
    {
     "name": "stdout",
     "output_type": "stream",
     "text": [
      "[<replicate.helpers.FileOutput object at 0x00000264517D74D0>, <replicate.helpers.FileOutput object at 0x000002645178F110>]\n"
     ]
    }
   ],
   "source": [
    "model = f\"{REPLICATE_MODEL}:{REPLICATE_MODEL_VERSION}\"\n",
    "prompt = \"a photo of TOK adult man dressed up for a professional photo shoot\"\n",
    "\n",
    "responses = replicate_client.run(\n",
    "    model,\n",
    "    input={\n",
    "        \"model\": \"dev\",\n",
    "        \"prompt\": prompt,\n",
    "        \"go_fast\": False,\n",
    "        # \"lora_scale\": 1,\n",
    "        \"megapixels\": \"1\",\n",
    "        \"num_outputs\": 2,\n",
    "        # \"aspect_ratio\": \"1:1\",\n",
    "        \"output_format\": \"jpg\",\n",
    "        # \"guidance_scale\": 3,\n",
    "        # \"output_quality\": 80,\n",
    "        # \"prompt_strength\": 0.8,\n",
    "        # \"extra_lora_scale\": 1,\n",
    "        # \"num_inference_steps\": 28\n",
    "    }\n",
    ")\n",
    "print(responses)"
   ]
  },
  {
   "cell_type": "code",
   "execution_count": null,
   "metadata": {},
   "outputs": [
    {
     "name": "stdout",
     "output_type": "stream",
     "text": [
      "0 https://replicate.delivery/xezq/d3KHerIbVASgbCOCr9iFFFAtVufIlIjLWusQ1Y5SvAh3JDQUA/out-0.jpg\n",
      "1 https://replicate.delivery/xezq/WAefjIC3W5n1lE1Ni9kQAdmDFIeepNDJDJcWc10Zrq8eOZAiC/out-1.jpg\n"
     ]
    }
   ],
   "source": [
    "session_id = random.randint(10000, 99999)\n",
    "for i, output in enumerate(responses):\n",
    "    fname = f\"{session_id}-{i}.jpg\"\n",
    "    outpath = GENERATED_DIR / fname\n",
    "    with open(outpath, \"wb\") as f:\n",
    "        f.write(output.read())\n",
    "\n",
    "    print(i, output)"
   ]
  },
  {
   "cell_type": "code",
   "execution_count": 5,
   "metadata": {},
   "outputs": [],
   "source": [
    "rep_model = replicate_client.models.get(REPLICATE_MODEL)\n",
    "rep_version = rep_model.versions.get(REPLICATE_MODEL_VERSION) \n",
    "\n",
    "prompt = \"a photo of TOK adult man dressed up for a professional photo shoot\"\n",
    "input_args = {\n",
    "    \"prompt\": prompt,\n",
    "    \"num_outputs\": 2,\n",
    "    \"output_format\": \"jpg\",\n",
    "}\n",
    "\n",
    "pred = replicate_client.predictions.create(\n",
    "    version=rep_version,\n",
    "    input=input_args,\n",
    ")"
   ]
  },
  {
   "cell_type": "code",
   "execution_count": 6,
   "metadata": {},
   "outputs": [
    {
     "data": {
      "text/plain": [
       "'6wz4x6q0p5rma0cn254rv2dzxc'"
      ]
     },
     "execution_count": 6,
     "metadata": {},
     "output_type": "execute_result"
    }
   ],
   "source": [
    "pred.id"
   ]
  },
  {
   "cell_type": "code",
   "execution_count": 8,
   "metadata": {},
   "outputs": [
    {
     "data": {
      "text/plain": [
       "'starting'"
      ]
     },
     "execution_count": 8,
     "metadata": {},
     "output_type": "execute_result"
    }
   ],
   "source": [
    "pred.status"
   ]
  },
  {
   "cell_type": "code",
   "execution_count": 9,
   "metadata": {},
   "outputs": [],
   "source": [
    "pred_id = pred.id\n",
    "pred_lookup = replicate_client.predictions.get(pred_id)"
   ]
  },
  {
   "cell_type": "code",
   "execution_count": 10,
   "metadata": {},
   "outputs": [
    {
     "data": {
      "text/plain": [
       "'succeeded'"
      ]
     },
     "execution_count": 10,
     "metadata": {},
     "output_type": "execute_result"
    }
   ],
   "source": [
    "pred_lookup.status"
   ]
  },
  {
   "cell_type": "code",
   "execution_count": 14,
   "metadata": {},
   "outputs": [
    {
     "data": {
      "text/plain": [
       "['https://replicate.delivery/xezq/3ffATdVGxFpirEmh704LinkKdnmk0DH7MesnA7e5bHHA5MARB/out-0.jpg',\n",
       " 'https://replicate.delivery/xezq/QTzi2VehpSxxaKU4JaxZYJyPmh4yWEW4engPcmIfOoXhcGgoA/out-1.jpg']"
      ]
     },
     "execution_count": 14,
     "metadata": {},
     "output_type": "execute_result"
    }
   ],
   "source": [
    "pred_urls = pred_lookup.output\n",
    "pred_urls"
   ]
  },
  {
   "cell_type": "code",
   "execution_count": null,
   "metadata": {},
   "outputs": [
    {
     "name": "stdout",
     "output_type": "stream",
     "text": [
      "0 https://replicate.delivery/xezq/WAefjIC3W5n1lE1Ni9kQAdmDFIeepNDJDJcWc10Zrq8eOZAiC/out-1.jpg\n",
      "1 https://replicate.delivery/xezq/WAefjIC3W5n1lE1Ni9kQAdmDFIeepNDJDJcWc10Zrq8eOZAiC/out-1.jpg\n"
     ]
    },
    {
     "ename": "",
     "evalue": "",
     "output_type": "error",
     "traceback": [
      "\u001b[1;31mThe Kernel crashed while executing code in the current cell or a previous cell. \n",
      "\u001b[1;31mPlease review the code in the cell(s) to identify a possible cause of the failure. \n",
      "\u001b[1;31mClick <a href='https://aka.ms/vscodeJupyterKernelCrash'>here</a> for more info. \n",
      "\u001b[1;31mView Jupyter <a href='command:jupyter.viewOutput'>log</a> for further details."
     ]
    }
   ],
   "source": [
    "import httpx\n",
    "import random\n",
    "\n",
    "session_id = random.randint(10000, 99999)\n",
    "with httpx.Client() as client:\n",
    "    for i, url in enumerate(pred_urls):\n",
    "        fname = f\"{session_id}-{i}.jpg\"\n",
    "        outpath = GENERATED_DIR / fname\n",
    "        res = client.get(url)\n",
    "        res.raise_for_status()\n",
    "        with open(outpath, \"wb\") as f:\n",
    "            f.write(res.content)\n",
    "\n",
    "        print(i, output)"
   ]
  }
 ],
 "metadata": {
  "kernelspec": {
   "display_name": ".venv",
   "language": "python",
   "name": "python3"
  },
  "language_info": {
   "codemirror_mode": {
    "name": "ipython",
    "version": 3
   },
   "file_extension": ".py",
   "mimetype": "text/x-python",
   "name": "python",
   "nbconvert_exporter": "python",
   "pygments_lexer": "ipython3",
   "version": "3.13.1"
  }
 },
 "nbformat": 4,
 "nbformat_minor": 2
}
