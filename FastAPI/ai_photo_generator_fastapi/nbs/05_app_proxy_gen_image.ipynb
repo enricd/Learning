{
 "cells": [
  {
   "cell_type": "code",
   "execution_count": null,
   "metadata": {},
   "outputs": [],
   "source": [
    "import httpx\n",
    "\n",
    "\n",
    "endpoint = \"http://127.0.0.1:8000/generate\""
   ]
  },
  {
   "cell_type": "code",
   "execution_count": null,
   "metadata": {},
   "outputs": [],
   "source": [
    "prompt = \"A photo of TOK adult man dressed up for a professional photo shoot\"\n",
    "res = httpx.post(\n",
    "    endpoint, \n",
    "    json={\n",
    "        \"prompt\": prompt\n",
    "    })\n",
    "\n",
    "res.status_code, res.json()"
   ]
  },
  {
   "cell_type": "code",
   "execution_count": null,
   "metadata": {},
   "outputs": [],
   "source": [
    "# Test api rate limit\n",
    "\n",
    "endpoint = \"http://127.0.0.1:8000/\"\n",
    "res = httpx.get(endpoint)\n",
    "res.status_code, res.json(), res.headers.get(\"Retry-After\")"
   ]
  },
  {
   "cell_type": "code",
   "execution_count": null,
   "metadata": {},
   "outputs": [],
   "source": [
    "# create token\n",
    "\n",
    "# import secrets\n",
    "\n",
    "# print(secrets.token_urlsafe(32))"
   ]
  },
  {
   "cell_type": "code",
   "execution_count": null,
   "metadata": {},
   "outputs": [
    {
     "ename": "",
     "evalue": "",
     "output_type": "error",
     "traceback": [
      "\u001b[1;31mThe Kernel crashed while executing code in the current cell or a previous cell. \n",
      "\u001b[1;31mPlease review the code in the cell(s) to identify a possible cause of the failure. \n",
      "\u001b[1;31mClick <a href='https://aka.ms/vscodeJupyterKernelCrash'>here</a> for more info. \n",
      "\u001b[1;31mView Jupyter <a href='command:jupyter.viewOutput'>log</a> for further details."
     ]
    }
   ],
   "source": [
    "import httpx\n",
    "from decouple import config\n",
    "import random\n",
    "\n",
    "API_ACCESS_KEY = config(\"API_ACCESS_KEY\")\n",
    "\n",
    "headers = {\n",
    "    \"X-API-Key\": API_ACCESS_KEY\n",
    "}\n",
    "\n",
    "endpoint = \"http://127.0.0.1:8000/\"\n",
    "res = httpx.get(endpoint, headers=headers)\n",
    "res.status_code, res.json(), res.headers.get(\"Retry-After\")"
   ]
  },
  {
   "cell_type": "code",
   "execution_count": null,
   "metadata": {},
   "outputs": [],
   "source": [
    "API_ACCESS_KEY = config(\"API_ACCESS_KEY\")\n",
    "\n",
    "headers = {\n",
    "    \"X-API-Key\": API_ACCESS_KEY\n",
    "}\n",
    "\n",
    "endpoint = \"http://127.0.0.1:8000/predictions\"\n",
    "res = httpx.get(endpoint, headers=headers)\n",
    "preds_json = res.json()\n",
    "res.status_code, res.json(), res.headers.get(\"Retry-After\")"
   ]
  },
  {
   "cell_type": "code",
   "execution_count": null,
   "metadata": {},
   "outputs": [],
   "source": [
    "preds_json[0].get('url')"
   ]
  },
  {
   "cell_type": "code",
   "execution_count": null,
   "metadata": {},
   "outputs": [],
   "source": [
    "# endpoint = \"http://127.0.0.1:8000/predictions/qyw56n23adrme0cn24vat9nrjr\"\n",
    "recent_url = f\"http://127.0.0.1:8000{preds_json[0].get('url')}\"\n",
    "res = httpx.get(recent_url, headers=headers)\n",
    "res.status_code, res.json(), res.headers.get(\"Retry-After\")"
   ]
  },
  {
   "cell_type": "code",
   "execution_count": null,
   "metadata": {},
   "outputs": [],
   "source": [
    "from pathlib import Path\n",
    "\n",
    "for obj in preds_json[:10]:\n",
    "    path = obj.get(\"url\")\n",
    "    endpoint = f\"http://127.0.0.1:8000{path}\"\n",
    "    res = httpx.get(endpoint, headers=headers)\n",
    "    if res.status_code not in range(200, 299):\n",
    "        continue\n",
    "\n",
    "    data = res.json()\n",
    "    _id = data.get(\"id\")\n",
    "    _input = data.get(\"input\")\n",
    "    num_outputs = _input.get(\"num_outputs\") or 0\n",
    "    _output = data.get(\"output\")\n",
    "    if _output is None:\n",
    "        continue\n",
    "    output_names = [Path(x).name for x in _output]\n",
    "    print(_id, num_outputs, _output)"
   ]
  },
  {
   "cell_type": "code",
   "execution_count": null,
   "metadata": {},
   "outputs": [],
   "source": [
    "recent_url = f\"http://127.0.0.1:8000/predictions\"\n",
    "res = httpx.get(recent_url, params={\"status\": \"processing\"}, headers=headers)\n",
    "res.status_code, res.json(), res.headers.get(\"Retry-After\")"
   ]
  },
  {
   "cell_type": "code",
   "execution_count": null,
   "metadata": {},
   "outputs": [],
   "source": [
    "from pathlib import Path\n",
    "\n",
    "BASE_URL = \"http://127.0.0.1:8000\"\n",
    "\n",
    "for obj in preds_json[:10]:\n",
    "    path = obj.get(\"url\")\n",
    "    endpoint = f\"{BASE_URL}{path}\"\n",
    "    res = httpx.get(endpoint, headers=headers)\n",
    "    if res.status_code not in range(200, 299):\n",
    "        continue\n",
    "\n",
    "    data = res.json()\n",
    "    files = data.get(\"files\") or None\n",
    "    if files is None:\n",
    "        continue\n",
    "    print(data)\n",
    "    obj_id = data.get(\"id\")\n",
    "    with httpx.Client() as client:\n",
    "        for i, file_path in enumerate(files):\n",
    "            fname = Path(file_path).name\n",
    "            outpath = GENERATED_DIR / obj_id / fname\n",
    "            outpath.parent.mkdir(exist_ok=True, parents=True)\n",
    "            if outpath.exists():\n",
    "                continue\n",
    "            url = f\"{BASE_URL}{file_path}\"\n",
    "            res = client.get(url, headers=headers)\n",
    "            res.raise_for_status()\n",
    "            with open(outpath, \"wb\") as f:\n",
    "                f.write(res.content)\n",
    "    break"
   ]
  }
 ],
 "metadata": {
  "kernelspec": {
   "display_name": ".venv",
   "language": "python",
   "name": "python3"
  },
  "language_info": {
   "codemirror_mode": {
    "name": "ipython",
    "version": 3
   },
   "file_extension": ".py",
   "mimetype": "text/x-python",
   "name": "python",
   "nbconvert_exporter": "python",
   "pygments_lexer": "ipython3",
   "version": "3.13.1"
  }
 },
 "nbformat": 4,
 "nbformat_minor": 2
}
