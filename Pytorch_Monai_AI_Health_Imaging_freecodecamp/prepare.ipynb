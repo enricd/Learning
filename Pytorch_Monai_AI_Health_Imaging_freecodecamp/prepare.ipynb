{
 "cells": [
  {
   "cell_type": "markdown",
   "metadata": {},
   "source": [
    "## Create groups of 64 slices"
   ]
  },
  {
   "cell_type": "code",
   "execution_count": null,
   "metadata": {},
   "outputs": [],
   "source": [
    "in_path = \"D:\"      # \"D:/Code/Organ and Tumor Segmentation/datasets/Liver/dicom_file/images\"\n",
    "out_path = \"D:\"     # \"D:/Code/Organ and Tumor Segmentation/datasets/Liver/dicom_groups/images\""
   ]
  },
  {
   "cell_type": "code",
   "execution_count": null,
   "metadata": {},
   "outputs": [],
   "source": [
    "!pip install glob2 pytest-shutil dicom2nifti nibabel"
   ]
  },
  {
   "cell_type": "code",
   "execution_count": null,
   "metadata": {},
   "outputs": [],
   "source": [
    "from glob import glob\n",
    "import shutil\n",
    "import os\n",
    "import numpy as np\n",
    "import dicom2nifti\n",
    "import nibabel as nib"
   ]
  },
  {
   "cell_type": "code",
   "execution_count": null,
   "metadata": {},
   "outputs": [],
   "source": [
    "for patient in glob(in_path + \"/*\"):\n",
    "    patient_name = os.path.basename(os.path.normpath(patient))\n",
    "    number_folders = int(len(glob(patient + \"/*\")) / 64)\n",
    "\n",
    "    for i in range(number_folders): \n",
    "        output_path_name = os.path.join(out_path, patient_name + \"_\" + str(i))\n",
    "        #print(output_path_name)\n",
    "        os.mkdir(output_path_name)\n",
    "        for i, file in enumerate(glob(patient + \"/*\")):\n",
    "            if i % 64 == 0:\n",
    "                break\n",
    "            shutil.move(file, output_path_name)\n",
    "                "
   ]
  },
  {
   "cell_type": "markdown",
   "metadata": {},
   "source": [
    "## Convert the dicom files into nifties"
   ]
  },
  {
   "cell_type": "code",
   "execution_count": null,
   "metadata": {},
   "outputs": [],
   "source": [
    "in_path_images = \"D:/Code\"  # \"D:/Code/Organ and Tumor Segmentation/datasets/Liver/dicom_groups/images/*\"\n",
    "in_path_labels = \"D:/Code\"  # \"D:/Code/Organ and Tumor Segmentation/datasets/Liver/dicom_groups/labels/*\"\n",
    "out_path_images = \"D:/Code\"  # \"D:/Code/Organ and Tumor Segmentation/datasets/Liver/nifti_files/images\"\n",
    "out_path_labels = \"D:/Code\"  # \"D:/Code/Organ and Tumor Segmentation/datasets/Liver/nifti_files/labels\"\n",
    "\n",
    "list_images = glob(in_path_images)\n",
    "list_labels = glob(in_path_labels)"
   ]
  },
  {
   "cell_type": "code",
   "execution_count": null,
   "metadata": {},
   "outputs": [],
   "source": [
    "for patient in list_images:\n",
    "    patient_name = os.path.basename(os.path.normpath(patient))\n",
    "    dicom2nifti.dicom_series_to_nifti(patient, os.path.join(out_path_images, patient_name + \".nii.gz\"))  # or just .nii for no compression "
   ]
  },
  {
   "cell_type": "markdown",
   "metadata": {},
   "source": [
    "## Find empty (files with only the label background)"
   ]
  },
  {
   "cell_type": "code",
   "execution_count": null,
   "metadata": {},
   "outputs": [],
   "source": [
    "list_labels = glob(out_path_labels + \"/*\")\n",
    "\n",
    "for patient in list_labels:\n",
    "    nifti_file = nib.load(patient)\n",
    "    fdata = nifti_file.get_fdata()  # frame data\n",
    "    np_unique = np.unique(fdata)\n",
    "    if len(np_unique) == 1:\n",
    "        print(patient)\n"
   ]
  },
  {
   "cell_type": "markdown",
   "metadata": {},
   "source": [
    "## Insatallations\n",
    "- cuda (tutorial 11.5)\n",
    "- cudnn (tutorial 8.3.1)\n",
    "- monai\n",
    "- pytorch"
   ]
  },
  {
   "cell_type": "code",
   "execution_count": null,
   "metadata": {},
   "outputs": [],
   "source": [
    "!pip install monai"
   ]
  }
 ],
 "metadata": {
  "language_info": {
   "name": "python"
  },
  "orig_nbformat": 4
 },
 "nbformat": 4,
 "nbformat_minor": 2
}
