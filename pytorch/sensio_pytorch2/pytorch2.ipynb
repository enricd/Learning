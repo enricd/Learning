{
 "cells": [
  {
   "cell_type": "code",
   "execution_count": null,
   "metadata": {},
   "outputs": [],
   "source": [
    "# From: https://www.youtube.com/watch?v=mrGP3jWC7P4&ab_channel=SensioCoders"
   ]
  },
  {
   "cell_type": "code",
   "execution_count": null,
   "metadata": {},
   "outputs": [],
   "source": [
    "#!pip install torch torchvision torchaudio --index-url https://download.pytorch.org/whl/cu118"
   ]
  },
  {
   "cell_type": "code",
   "execution_count": 61,
   "metadata": {},
   "outputs": [
    {
     "data": {
      "text/plain": [
       "'2.0.0+cu118'"
      ]
     },
     "execution_count": 61,
     "metadata": {},
     "output_type": "execute_result"
    }
   ],
   "source": [
    "import torch\n",
    "import numpy as np\n",
    "from sklearn.datasets import fetch_openml\n",
    "import os\n",
    "import matplotlib.pyplot as plt\n",
    "import random\n",
    "import onnx\n",
    "\n",
    "torch.__version__"
   ]
  },
  {
   "cell_type": "code",
   "execution_count": 3,
   "metadata": {},
   "outputs": [
    {
     "data": {
      "text/plain": [
       "True"
      ]
     },
     "execution_count": 3,
     "metadata": {},
     "output_type": "execute_result"
    }
   ],
   "source": [
    "torch.cuda.is_available()"
   ]
  },
  {
   "cell_type": "code",
   "execution_count": 4,
   "metadata": {},
   "outputs": [
    {
     "data": {
      "text/plain": [
       "tensor([[0., 0.],\n",
       "        [0., 0.]])"
      ]
     },
     "metadata": {},
     "output_type": "display_data"
    },
    {
     "data": {
      "text/plain": [
       "tensor([ 0.8239, -0.0770,  0.3359])"
      ]
     },
     "metadata": {},
     "output_type": "display_data"
    },
    {
     "data": {
      "text/plain": [
       "tensor([[1, 2, 3],\n",
       "        [4, 5, 6]])"
      ]
     },
     "metadata": {},
     "output_type": "display_data"
    }
   ],
   "source": [
    "# ---- First steps ----\n",
    "\n",
    "x1 = torch.zeros(2, 2)\n",
    "x2 = torch.randn(3)\n",
    "x3 = torch.tensor([[1, 2, 3], [4, 5, 6]])\n",
    "\n",
    "display(x1)\n",
    "display(x2)\n",
    "display(x3)"
   ]
  },
  {
   "cell_type": "code",
   "execution_count": 5,
   "metadata": {},
   "outputs": [
    {
     "data": {
      "text/plain": [
       "tensor([[1, 2],\n",
       "        [3, 4],\n",
       "        [5, 6]], dtype=torch.int32)"
      ]
     },
     "execution_count": 5,
     "metadata": {},
     "output_type": "execute_result"
    }
   ],
   "source": [
    "a = np.array([[1, 2], [3, 4], [5, 6]])\n",
    "x = torch.from_numpy(a)\n",
    "x"
   ]
  },
  {
   "cell_type": "code",
   "execution_count": 6,
   "metadata": {},
   "outputs": [
    {
     "data": {
      "text/plain": [
       "'x'"
      ]
     },
     "metadata": {},
     "output_type": "display_data"
    },
    {
     "data": {
      "text/plain": [
       "tensor([[ 1.4853, -0.6568, -0.2520],\n",
       "        [ 0.2839,  0.5839,  1.4615],\n",
       "        [-0.1671, -0.9089, -0.0952]])"
      ]
     },
     "metadata": {},
     "output_type": "display_data"
    },
    {
     "data": {
      "text/plain": [
       "'y'"
      ]
     },
     "metadata": {},
     "output_type": "display_data"
    },
    {
     "data": {
      "text/plain": [
       "tensor([[ 1.8229,  1.2652, -1.0203],\n",
       "        [ 0.5136,  1.5570,  0.2213],\n",
       "        [-0.2333, -0.0881, -0.2293]])"
      ]
     },
     "metadata": {},
     "output_type": "display_data"
    },
    {
     "data": {
      "text/plain": [
       "'add:'"
      ]
     },
     "metadata": {},
     "output_type": "display_data"
    },
    {
     "data": {
      "text/plain": [
       "tensor([[ 3.3082,  0.6085, -1.2724],\n",
       "        [ 0.7975,  2.1409,  1.6829],\n",
       "        [-0.4004, -0.9970, -0.3244]])"
      ]
     },
     "metadata": {},
     "output_type": "display_data"
    },
    {
     "data": {
      "text/plain": [
       "'prod:'"
      ]
     },
     "metadata": {},
     "output_type": "display_data"
    },
    {
     "data": {
      "text/plain": [
       "tensor([[ 2.7076, -0.8310,  0.2572],\n",
       "        [ 0.1458,  0.9091,  0.3235],\n",
       "        [ 0.0390,  0.0801,  0.0218]])"
      ]
     },
     "metadata": {},
     "output_type": "display_data"
    }
   ],
   "source": [
    "# -- Operations --\n",
    "\n",
    "x = torch.randn(3, 3)\n",
    "y = torch.randn(3, 3)\n",
    "\n",
    "display(\"x\", x, \"y\", y)\n",
    "display(\"add:\", x + y)\n",
    "display(\"prod:\", x * y)\n"
   ]
  },
  {
   "cell_type": "code",
   "execution_count": 7,
   "metadata": {},
   "outputs": [
    {
     "data": {
      "text/plain": [
       "tensor([[ 1.4853, -0.6568, -0.2520],\n",
       "        [ 0.2839,  0.5839,  1.4615],\n",
       "        [-0.1671, -0.9089, -0.0952]])"
      ]
     },
     "metadata": {},
     "output_type": "display_data"
    },
    {
     "data": {
      "text/plain": [
       "tensor([ 1.4853, -0.6568, -0.2520])"
      ]
     },
     "metadata": {},
     "output_type": "display_data"
    },
    {
     "data": {
      "text/plain": [
       "tensor(1.4853)"
      ]
     },
     "metadata": {},
     "output_type": "display_data"
    },
    {
     "data": {
      "text/plain": [
       "tensor([[-0.6568, -0.2520]])"
      ]
     },
     "metadata": {},
     "output_type": "display_data"
    }
   ],
   "source": [
    "# -- Indexing --\n",
    "\n",
    "display(x)\n",
    "display(x[0])\n",
    "display(x[0, 0])\n",
    "display(x[:1, 1:])"
   ]
  },
  {
   "cell_type": "code",
   "execution_count": 13,
   "metadata": {},
   "outputs": [],
   "source": [
    "# ---- Autograd ----\n",
    "\n",
    "x = torch.tensor(1., requires_grad=True)\n",
    "y = torch.tensor(2., requires_grad=True)\n",
    "p = x + y\n",
    "\n",
    "z = torch.tensor(3., requires_grad=True)\n",
    "g = p * z"
   ]
  },
  {
   "cell_type": "code",
   "execution_count": 14,
   "metadata": {},
   "outputs": [
    {
     "name": "stdout",
     "output_type": "stream",
     "text": [
      "tensor(3.)\n",
      "tensor(3.)\n",
      "tensor(3.)\n"
     ]
    }
   ],
   "source": [
    "g.backward()\n",
    "\n",
    "print(z.grad)  # x + y\n",
    "print(x.grad)  # z\n",
    "print(y.grad)  # z"
   ]
  },
  {
   "cell_type": "code",
   "execution_count": 15,
   "metadata": {},
   "outputs": [
    {
     "data": {
      "text/plain": [
       "tensor([[ 0.6458,  0.9182, -0.1625],\n",
       "        [-2.0861, -0.5412, -0.4262],\n",
       "        [-0.8330, -0.1598,  0.3427]], device='cuda:0')"
      ]
     },
     "execution_count": 15,
     "metadata": {},
     "output_type": "execute_result"
    }
   ],
   "source": [
    "# ---- GPU ----\n",
    "\n",
    "x = torch.randn(3, 3, device=\"cuda\")\n",
    "y = torch.randn(3, 3, device=\"cuda\")\n",
    "\n",
    "x * y"
   ]
  },
  {
   "cell_type": "code",
   "execution_count": 18,
   "metadata": {},
   "outputs": [
    {
     "name": "stdout",
     "output_type": "stream",
     "text": [
      "CPU times: total: 172 ms\n",
      "Wall time: 34 ms\n"
     ]
    }
   ],
   "source": [
    "# in cpu\n",
    "\n",
    "x = torch.randn(10000, 10000)\n",
    "y = torch.randn(10000, 10000)\n",
    "\n",
    "%time z = x * y"
   ]
  },
  {
   "cell_type": "code",
   "execution_count": 19,
   "metadata": {},
   "outputs": [
    {
     "name": "stdout",
     "output_type": "stream",
     "text": [
      "CPU times: total: 0 ns\n",
      "Wall time: 11 ms\n"
     ]
    }
   ],
   "source": [
    "# in gpu\n",
    "\n",
    "x = torch.randn(10000, 10000).cuda()\n",
    "y = torch.randn(10000, 10000).cuda()\n",
    "\n",
    "%time z = x * y"
   ]
  },
  {
   "cell_type": "code",
   "execution_count": 21,
   "metadata": {},
   "outputs": [
    {
     "data": {
      "text/plain": [
       "Sequential(\n",
       "  (0): Linear(in_features=784, out_features=100, bias=True)\n",
       "  (1): ReLU()\n",
       "  (2): Linear(in_features=100, out_features=10, bias=True)\n",
       ")"
      ]
     },
     "execution_count": 21,
     "metadata": {},
     "output_type": "execute_result"
    }
   ],
   "source": [
    "# ---- Neural Networks ----\n",
    "\n",
    "# Sequential models\n",
    "\n",
    "# MLP\n",
    "\n",
    "D_i, H, D_out = 784, 100, 10\n",
    "\n",
    "model = torch.nn.Sequential(\n",
    "    torch.nn.Linear(D_i, H),\n",
    "    torch.nn.ReLU(),\n",
    "    torch.nn.Linear(H, D_out),\n",
    ")\n",
    "\n",
    "model"
   ]
  },
  {
   "cell_type": "code",
   "execution_count": 22,
   "metadata": {},
   "outputs": [
    {
     "data": {
      "text/plain": [
       "torch.Size([64, 10])"
      ]
     },
     "execution_count": 22,
     "metadata": {},
     "output_type": "execute_result"
    }
   ],
   "source": [
    "outputs = model(torch.randn(64, 784))\n",
    "outputs.shape"
   ]
  },
  {
   "cell_type": "code",
   "execution_count": 23,
   "metadata": {},
   "outputs": [
    {
     "data": {
      "text/plain": [
       "(torch.Size([64, 10]), device(type='cuda', index=0))"
      ]
     },
     "execution_count": 23,
     "metadata": {},
     "output_type": "execute_result"
    }
   ],
   "source": [
    "# gpu\n",
    "model.cuda()\n",
    "x = torch.randn(64, 784).cuda()\n",
    "\n",
    "outputs = model(x)\n",
    "outputs.shape, outputs.device"
   ]
  },
  {
   "cell_type": "code",
   "execution_count": 24,
   "metadata": {},
   "outputs": [],
   "source": [
    "# ---- Custom models ----\n",
    "\n",
    "class Model(torch.nn.Module):\n",
    "\n",
    "    # Constructor\n",
    "    def __init__(self, D_i=784, H=100, D_out=10):\n",
    "\n",
    "        # Super constructor\n",
    "        super(Model, self).__init__()\n",
    "\n",
    "        # Layers\n",
    "        self.fc1 = torch.nn.Linear(D_i, H)\n",
    "        self.relu = torch.nn.ReLU()\n",
    "        self.fc2 = torch.nn.Linear(H, D_out)\n",
    "\n",
    "    # Forward pass\n",
    "    def forward(self, x):\n",
    "        x = self.fc1(x)\n",
    "        x = self.relu(x)\n",
    "        x = self.fc2(x)\n",
    "        return x"
   ]
  },
  {
   "cell_type": "code",
   "execution_count": 25,
   "metadata": {},
   "outputs": [
    {
     "data": {
      "text/plain": [
       "torch.Size([64, 10])"
      ]
     },
     "execution_count": 25,
     "metadata": {},
     "output_type": "execute_result"
    }
   ],
   "source": [
    "model = Model(784, 100, 10)\n",
    "outputs = model(torch.randn(64, 784))\n",
    "outputs.shape"
   ]
  },
  {
   "cell_type": "code",
   "execution_count": null,
   "metadata": {},
   "outputs": [],
   "source": [
    "# ---- Compiling models ---- (new in Pytorch 2.0)\n",
    "\n",
    "model_compiled = torch.compile(model)\n"
   ]
  },
  {
   "cell_type": "code",
   "execution_count": 47,
   "metadata": {},
   "outputs": [
    {
     "data": {
      "text/plain": [
       "((70000, 28, 28), (70000,))"
      ]
     },
     "execution_count": 47,
     "metadata": {},
     "output_type": "execute_result"
    }
   ],
   "source": [
    "# ---- Dataset ----\n",
    "\n",
    "# if not os.path.exists(\"data\"):\n",
    "#     os.mkdir(\"data\")\n",
    "# mnist = fetch_openml(\"mnist_784\", version=1)\n",
    "# X, y = mnist[\"data\"].values.astype(float).reshape(-1, 28, 28) / 255., mnist[\"target\"].values.astype(int)\n",
    "# np.savez_compressed(\"data/mnist.npz\", X=X, y=y)\n",
    "\n",
    "X, Y = np.load(\"data/mnist.npz\").values()\n",
    "\n",
    "X.shape, Y.shape"
   ]
  },
  {
   "cell_type": "code",
   "execution_count": 48,
   "metadata": {},
   "outputs": [
    {
     "data": {
      "image/png": "[encoded data removed]",
      "text/plain": [
       "<Figure size 1000x600 with 15 Axes>"
      ]
     },
     "metadata": {},
     "output_type": "display_data"
    }
   ],
   "source": [
    "r, c = 3, 5\n",
    "fig = plt.figure(figsize=(2*c, 2*r))\n",
    "for _r in range(r):\n",
    "    for _c in range(c):\n",
    "        plt.subplot(r, c, _r*c + _c + 1)\n",
    "        ix = random.randint(0, len(X)-1)\n",
    "        plt.imshow(X[ix], cmap=\"gray\")\n",
    "        plt.axis(\"off\")\n",
    "        plt.title(Y[ix])\n",
    "plt.tight_layout()\n",
    "plt.show()"
   ]
  },
  {
   "cell_type": "code",
   "execution_count": 49,
   "metadata": {},
   "outputs": [
    {
     "name": "stdout",
     "output_type": "stream",
     "text": [
      "torch.Size([100, 28, 28])\n"
     ]
    }
   ],
   "source": [
    "# ---- Dataloader ----\n",
    "\n",
    "dataloader = torch.utils.data.DataLoader(X, batch_size=100)\n",
    "\n",
    "for batch in dataloader:\n",
    "    print(batch.shape)\n",
    "    break"
   ]
  },
  {
   "cell_type": "code",
   "execution_count": 50,
   "metadata": {},
   "outputs": [],
   "source": [
    "dataloader = torch.utils.data.DataLoader(X,                 # data\n",
    "                                         batch_size=100,    # number of samples per batch\n",
    "                                         shuffle=True,      # randomize the order of the samples at each epoch\n",
    "                                         num_workers=4,     # number of subprocesses to use for data loading\n",
    "                                         pin_memory=True,   # whether to copy tensors into CUDA pinned memory (faster training)\n",
    "                                         collate_fn=None    # function to merge data samples of each batch\n",
    "                                         )"
   ]
  },
  {
   "cell_type": "code",
   "execution_count": 51,
   "metadata": {},
   "outputs": [],
   "source": [
    "# ---- Dataset ----\n",
    "\n",
    "class Dataset(torch.utils.data.Dataset):\n",
    "\n",
    "    # Constructor\n",
    "    def __init__(self, X, Y):\n",
    "        self.X = torch.tensor(X).float()\n",
    "        self.Y = torch.tensor(Y).long()\n",
    "\n",
    "    # Number of samples in the dataset\n",
    "    def __len__(self):\n",
    "        return len(self.X)\n",
    "    \n",
    "    def __getitem__(self, ix):\n",
    "        return self.X[ix], self.Y[ix]\n",
    "    \n",
    "    # optional func to genereate every batch\n",
    "    def collate_fn(self, batch):\n",
    "        x, y = [], []\n",
    "        for _x, _y in batch:\n",
    "            x.append(_x)\n",
    "            y.append(_y)\n",
    "        return torch.stack(x).view(len(batch), -1), torch.stack(y)  # images are flattened in a single vector    "
   ]
  },
  {
   "cell_type": "code",
   "execution_count": 52,
   "metadata": {},
   "outputs": [
    {
     "name": "stdout",
     "output_type": "stream",
     "text": [
      "torch.Size([100, 28, 28]) torch.Size([100])\n"
     ]
    }
   ],
   "source": [
    "dataset = Dataset(X, Y)\n",
    "dataloader = torch.utils.data.DataLoader(dataset, batch_size=100)\n",
    "\n",
    "for batch in dataloader:\n",
    "    x, y = batch\n",
    "    print(x.shape, y.shape)\n",
    "    break"
   ]
  },
  {
   "cell_type": "code",
   "execution_count": 53,
   "metadata": {},
   "outputs": [
    {
     "name": "stdout",
     "output_type": "stream",
     "text": [
      "Epoch 1/5\n",
      "loss: 2.3061 [  100/70000]\n",
      "loss: 0.4542 [10100/70000]\n",
      "loss: 0.4842 [20100/70000]\n",
      "loss: 0.3338 [30100/70000]\n",
      "loss: 0.2484 [40100/70000]\n",
      "loss: 0.2691 [50100/70000]\n",
      "loss: 0.1354 [60100/70000]\n",
      "Epoch 2/5\n",
      "loss: 0.1637 [  100/70000]\n",
      "loss: 0.2016 [10100/70000]\n",
      "loss: 0.2464 [20100/70000]\n",
      "loss: 0.2114 [30100/70000]\n",
      "loss: 0.1432 [40100/70000]\n",
      "loss: 0.1523 [50100/70000]\n",
      "loss: 0.0780 [60100/70000]\n",
      "Epoch 3/5\n",
      "loss: 0.1110 [  100/70000]\n",
      "loss: 0.1312 [10100/70000]\n",
      "loss: 0.1760 [20100/70000]\n",
      "loss: 0.1821 [30100/70000]\n",
      "loss: 0.1071 [40100/70000]\n",
      "loss: 0.0968 [50100/70000]\n",
      "loss: 0.0509 [60100/70000]\n",
      "Epoch 4/5\n",
      "loss: 0.0897 [  100/70000]\n",
      "loss: 0.0980 [10100/70000]\n",
      "loss: 0.1342 [20100/70000]\n",
      "loss: 0.1577 [30100/70000]\n",
      "loss: 0.0825 [40100/70000]\n",
      "loss: 0.0723 [50100/70000]\n",
      "loss: 0.0306 [60100/70000]\n",
      "Epoch 5/5\n",
      "loss: 0.0710 [  100/70000]\n",
      "loss: 0.0818 [10100/70000]\n",
      "loss: 0.1105 [20100/70000]\n",
      "loss: 0.1288 [30100/70000]\n",
      "loss: 0.0648 [40100/70000]\n",
      "loss: 0.0570 [50100/70000]\n",
      "loss: 0.0200 [60100/70000]\n"
     ]
    }
   ],
   "source": [
    "# ---- Taining ----\n",
    "\n",
    "dataset = Dataset(X, Y)\n",
    "dataloader = torch.utils.data.DataLoader(dataset, batch_size=100, collate_fn=dataset.collate_fn)\n",
    "\n",
    "model = Model(784, 100, 10)\n",
    "\n",
    "criterion = torch.nn.CrossEntropyLoss()\n",
    "optimizer = torch.optim.Adam(model.parameters())\n",
    "\n",
    "epochs = 5\n",
    "for e in range(1, epochs+1):\n",
    "    print(f\"Epoch {e}/{epochs}\")\n",
    "    for batch_ix, (x, y) in enumerate(dataloader):\n",
    "        optimizer.zero_grad()           # reset gradients\n",
    "        outputs = model(x)              # forward pass\n",
    "        loss = criterion(outputs, y)    # compute loss\n",
    "        loss.backward()                 # backward pass\n",
    "        optimizer.step()                # update weights\n",
    "        if batch_ix % 100 == 0:\n",
    "            loss, current = loss.item(), (batch_ix + 1) * len(x)\n",
    "            print(f\"loss: {loss:.4f} [{current:>5d}/{len(dataset):>5d}]\")"
   ]
  },
  {
   "cell_type": "code",
   "execution_count": 54,
   "metadata": {},
   "outputs": [],
   "source": [
    "# ---- Exporting models ----\n",
    "\n",
    "torch.save(model, \"model.pth\")"
   ]
  },
  {
   "cell_type": "code",
   "execution_count": 55,
   "metadata": {},
   "outputs": [
    {
     "data": {
      "text/plain": [
       "Model(\n",
       "  (fc1): Linear(in_features=784, out_features=100, bias=True)\n",
       "  (relu): ReLU()\n",
       "  (fc2): Linear(in_features=100, out_features=10, bias=True)\n",
       ")"
      ]
     },
     "execution_count": 55,
     "metadata": {},
     "output_type": "execute_result"
    }
   ],
   "source": [
    "loaded = torch.load(\"model.pth\")\n",
    "loaded"
   ]
  },
  {
   "cell_type": "code",
   "execution_count": 56,
   "metadata": {},
   "outputs": [
    {
     "data": {
      "text/plain": [
       "Model(\n",
       "  (fc1): Linear(in_features=784, out_features=100, bias=True)\n",
       "  (relu): ReLU()\n",
       "  (fc2): Linear(in_features=100, out_features=10, bias=True)\n",
       ")"
      ]
     },
     "execution_count": 56,
     "metadata": {},
     "output_type": "execute_result"
    }
   ],
   "source": [
    "# Using state dict\n",
    "\n",
    "torch.save(model.state_dict(), \"model.ckpt\")\n",
    "\n",
    "model = Model(784, 100, 10)\n",
    "model.load_state_dict(torch.load(\"model.ckpt\"))\n",
    "model"
   ]
  },
  {
   "cell_type": "code",
   "execution_count": 57,
   "metadata": {},
   "outputs": [],
   "source": [
    "# Decoupling model definition from model state\n",
    "\n",
    "model_scripted = torch.jit.script(model)\n",
    "model_scripted.save(\"model_scripted.pt\")"
   ]
  },
  {
   "cell_type": "code",
   "execution_count": 58,
   "metadata": {},
   "outputs": [
    {
     "data": {
      "text/plain": [
       "RecursiveScriptModule(\n",
       "  original_name=Model\n",
       "  (fc1): RecursiveScriptModule(original_name=Linear)\n",
       "  (relu): RecursiveScriptModule(original_name=ReLU)\n",
       "  (fc2): RecursiveScriptModule(original_name=Linear)\n",
       ")"
      ]
     },
     "execution_count": 58,
     "metadata": {},
     "output_type": "execute_result"
    }
   ],
   "source": [
    "model = torch.jit.load(\"model_scripted.pt\")\n",
    "model"
   ]
  },
  {
   "cell_type": "code",
   "execution_count": 62,
   "metadata": {},
   "outputs": [
    {
     "name": "stdout",
     "output_type": "stream",
     "text": [
      "============= Diagnostic Run torch.onnx.export version 2.0.0+cu118 =============\n",
      "verbose: False, log level: Level.ERROR\n",
      "======================= 0 NONE 0 NOTE 0 WARNING 0 ERROR ========================\n",
      "\n"
     ]
    },
    {
     "name": "stderr",
     "output_type": "stream",
     "text": [
      "c:\\Code\\Learning\\pytorch\\sensio_pytorch2\\venv\\Lib\\site-packages\\torch\\onnx\\utils.py:825: UserWarning: no signature found for <torch.ScriptMethod object at 0x00000249C401D2B0>, skipping _decide_input_format\n",
      "  warnings.warn(f\"{e}, skipping _decide_input_format\")\n"
     ]
    }
   ],
   "source": [
    "# Using onxx for framework interoperability\n",
    "\n",
    "torch.onnx.export(\n",
    "    model.cpu(),\n",
    "    torch.randn(10, 784),   # dummy input\n",
    "    \"model.onnx\",\n",
    "    opset_version=11,       \n",
    "    input_names=[\"input\"],\n",
    "    output_names=[\"output\"],\n",
    "    dynamic_axes={\"input\": {0: \"batch_size\"}, \"output\": {0: \"batch_size\"}},     # this allows to use different batch sizes than 10\n",
    ")"
   ]
  },
  {
   "cell_type": "code",
   "execution_count": 63,
   "metadata": {},
   "outputs": [],
   "source": [
    "onnx_model = onnx.load(\"model.onnx\")\n",
    "onnx.checker.check_model(onnx_model)"
   ]
  },
  {
   "cell_type": "code",
   "execution_count": 64,
   "metadata": {},
   "outputs": [
    {
     "ename": "ModuleNotFoundError",
     "evalue": "No module named 'onnxruntime'",
     "output_type": "error",
     "traceback": [
      "\u001b[1;31m---------------------------------------------------------------------------\u001b[0m",
      "\u001b[1;31mModuleNotFoundError\u001b[0m                       Traceback (most recent call last)",
      "Cell \u001b[1;32mIn[64], line 1\u001b[0m\n\u001b[1;32m----> 1\u001b[0m \u001b[39mimport\u001b[39;00m \u001b[39monnxruntime\u001b[39;00m \u001b[39mas\u001b[39;00m \u001b[39mort\u001b[39;00m\n\u001b[0;32m      3\u001b[0m ort_session \u001b[39m=\u001b[39m ort\u001b[39m.\u001b[39mInferenceSession(\u001b[39m\"\u001b[39m\u001b[39mmodel.onnx\u001b[39m\u001b[39m\"\u001b[39m)\n\u001b[0;32m      4\u001b[0m ort_inputs \u001b[39m=\u001b[39m {ort_session\u001b[39m.\u001b[39mget_inputs()[\u001b[39m0\u001b[39m]\u001b[39m.\u001b[39mname: torch\u001b[39m.\u001b[39mrandn(\u001b[39m10\u001b[39m, \u001b[39m784\u001b[39m)\u001b[39m.\u001b[39mnumpy()}\n",
      "\u001b[1;31mModuleNotFoundError\u001b[0m: No module named 'onnxruntime'"
     ]
    }
   ],
   "source": [
    "import onnxruntime as ort\n",
    "\n",
    "ort_session = ort.InferenceSession(\"model.onnx\")\n",
    "ort_inputs = {ort_session.get_inputs()[0].name: torch.randn(10, 784).numpy()}\n",
    "ort_outs = ort_session.run(None, ort_inputs)\n",
    "ort_outs[0].shape"
   ]
  }
 ],
 "metadata": {
  "kernelspec": {
   "display_name": "venv",
   "language": "python",
   "name": "python3"
  },
  "language_info": {
   "codemirror_mode": {
    "name": "ipython",
    "version": 3
   },
   "file_extension": ".py",
   "mimetype": "text/x-python",
   "name": "python",
   "nbconvert_exporter": "python",
   "pygments_lexer": "ipython3",
   "version": "3.11.0"
  },
  "orig_nbformat": 4,
  "vscode": {
   "interpreter": {
    "hash": "21d2a36bdddae3e9bdae6d598d44797c8d7c33ce1424d838aacd14f98d4d7d96"
   }
  }
 },
 "nbformat": 4,
 "nbformat_minor": 2
}
