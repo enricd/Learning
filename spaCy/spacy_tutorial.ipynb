{
 "cells": [
  {
   "cell_type": "code",
   "execution_count": 1,
   "metadata": {},
   "outputs": [],
   "source": [
    "# python -m spacy download en_core_web_sm"
   ]
  },
  {
   "cell_type": "code",
   "execution_count": 2,
   "metadata": {},
   "outputs": [],
   "source": [
    "import spacy"
   ]
  },
  {
   "cell_type": "code",
   "execution_count": 3,
   "metadata": {},
   "outputs": [],
   "source": [
    "nlp = spacy.load(\"en_core_web_sm\")"
   ]
  },
  {
   "cell_type": "code",
   "execution_count": 4,
   "metadata": {},
   "outputs": [
    {
     "data": {
      "text/plain": [
       "\"In the bustling city of Barcelona, where the ancient streets whisper tales of bygone eras, there lived a man named Enric Domingo. Born on the first day of the year 1823, Enric was a visionary far ahead of his time. His keen intellect and relentless pursuit of knowledge were the talk of the town, and his birth date became synonymous with the dawn of a new era in the city's history. Enric's passion for innovation led him to establish a company that would transcend the agesâ€”ERNI.\\n\\nERNI, under Enric's astute guidance, quickly became a beacon of progress amidst the cobblestone paths and gothic architecture of Barcelona. The company specialized in creating intricate timekeeping devices, which were sought after by the elite for their precision and craftsmanship. Enric's reputation as a master inventor grew, and soon, his name was uttered in the same breath as the great minds of the century.\\n\\nAs ERNI's fame spread, so did the curiosity about the enigmatic founder. Enric Domingo, however, remained a private man, preferring the company of gears and springs to that of the high society. The only way to reach him was through his telephone number, 111-222-333, a sequence of digits as unique as the man himself. Those who were fortunate enough to speak with Enric found a voice filled with the warmth of a Mediterranean summer's day, and a mind as sharp as the chisel that etched the intricate details of Sagrada Familia's facades.\\n\\nEnric Domingo's legacy lived on through ERNI, and his birth date, 01/01/1823, became a symbol of the relentless pursuit of excellence that still drives the company to this day. His story, interwoven with the history of Barcelona, remains an inspiration to all who walk the city's streets, dreaming of leaving their mark on the world.\""
      ]
     },
     "execution_count": 4,
     "metadata": {},
     "output_type": "execute_result"
    }
   ],
   "source": [
    "with open(\"text.txt\") as f:\n",
    "    text = f.read()\n",
    "\n",
    "text"
   ]
  },
  {
   "cell_type": "code",
   "execution_count": 5,
   "metadata": {},
   "outputs": [
    {
     "data": {
      "text/plain": [
       "In the bustling city of Barcelona, where the ancient streets whisper tales of bygone eras, there lived a man named Enric Domingo. Born on the first day of the year 1823, Enric was a visionary far ahead of his time. His keen intellect and relentless pursuit of knowledge were the talk of the town, and his birth date became synonymous with the dawn of a new era in the city's history. Enric's passion for innovation led him to establish a company that would transcend the agesâ€”ERNI.\n",
       "\n",
       "ERNI, under Enric's astute guidance, quickly became a beacon of progress amidst the cobblestone paths and gothic architecture of Barcelona. The company specialized in creating intricate timekeeping devices, which were sought after by the elite for their precision and craftsmanship. Enric's reputation as a master inventor grew, and soon, his name was uttered in the same breath as the great minds of the century.\n",
       "\n",
       "As ERNI's fame spread, so did the curiosity about the enigmatic founder. Enric Domingo, however, remained a private man, preferring the company of gears and springs to that of the high society. The only way to reach him was through his telephone number, 111-222-333, a sequence of digits as unique as the man himself. Those who were fortunate enough to speak with Enric found a voice filled with the warmth of a Mediterranean summer's day, and a mind as sharp as the chisel that etched the intricate details of Sagrada Familia's facades.\n",
       "\n",
       "Enric Domingo's legacy lived on through ERNI, and his birth date, 01/01/1823, became a symbol of the relentless pursuit of excellence that still drives the company to this day. His story, interwoven with the history of Barcelona, remains an inspiration to all who walk the city's streets, dreaming of leaving their mark on the world."
      ]
     },
     "execution_count": 5,
     "metadata": {},
     "output_type": "execute_result"
    }
   ],
   "source": [
    "doc = nlp(text)\n",
    "\n",
    "doc"
   ]
  },
  {
   "cell_type": "code",
   "execution_count": 7,
   "metadata": {},
   "outputs": [
    {
     "name": "stdout",
     "output_type": "stream",
     "text": [
      "In -> In ADP prep\n",
      "the -> the DET det\n",
      "bustling -> bustling ADJ amod\n",
      "city -> city NOUN pobj\n",
      "of -> of ADP prep\n",
      "Barcelona -> Barcelona PROPN pobj\n",
      ", -> , PUNCT punct\n",
      "where -> where SCONJ advmod\n",
      "the -> the DET det\n",
      "ancient -> ancient ADJ amod\n"
     ]
    }
   ],
   "source": [
    "for token in doc[:10]:\n",
    "    print(token, \"->\", token.text, token.pos_, token.dep_)"
   ]
  },
  {
   "cell_type": "code",
   "execution_count": 8,
   "metadata": {},
   "outputs": [
    {
     "name": "stdout",
     "output_type": "stream",
     "text": [
      "In the bustling city of Barcelona, where the ancient streets whisper tales of bygone eras, there lived a man named Enric Domingo.\n",
      "Born on the first day of the year 1823, Enric was a visionary far ahead of his time.\n",
      "His keen intellect and relentless pursuit of knowledge were the talk of the town, and his birth date became synonymous with the dawn of a new era in the city's history.\n",
      "Enric's passion for innovation led him to establish a company that would transcend the agesâ€”ERNI.\n",
      "\n",
      "ERNI, under Enric's astute guidance, quickly became a beacon of progress amidst the cobblestone paths and gothic architecture of Barcelona.\n",
      "The company specialized in creating intricate timekeeping devices, which were sought after by the elite for their precision and craftsmanship.\n",
      "Enric's reputation as a master inventor grew, and soon, his name was uttered in the same breath as the great minds of the century.\n",
      "\n",
      "\n",
      "As ERNI's fame spread, so did the curiosity about the enigmatic founder.\n",
      "Enric Domingo, however, remained a private man, preferring the company of gears and springs to that of the high society.\n",
      "The only way to reach him was through his telephone number, 111-222-333, a sequence of digits as unique as the man himself.\n",
      "Those who were fortunate enough to speak with Enric found a voice filled with the warmth of a Mediterranean summer's day, and a mind as sharp as the chisel that etched the intricate details of Sagrada Familia's facades.\n",
      "\n",
      "\n",
      "Enric Domingo's legacy lived on through ERNI, and his birth date, 01/01/1823, became a symbol of the relentless pursuit of excellence that still drives the company to this day.\n",
      "His story, interwoven with the history of Barcelona, remains an inspiration to all who walk the city's streets, dreaming of leaving their mark on the world.\n"
     ]
    }
   ],
   "source": [
    "# Sentence boundary detection\n",
    "\n",
    "for sent in doc.sents:\n",
    "    print(sent)"
   ]
  },
  {
   "cell_type": "code",
   "execution_count": 10,
   "metadata": {},
   "outputs": [
    {
     "data": {
      "text/plain": [
       "In the bustling city of Barcelona, where the ancient streets whisper tales of bygone eras, there lived a man named Enric Domingo."
      ]
     },
     "execution_count": 10,
     "metadata": {},
     "output_type": "execute_result"
    }
   ],
   "source": [
    "sentence1 = list(doc.sents)[0]\n",
    "sentence1"
   ]
  },
  {
   "cell_type": "code",
   "execution_count": null,
   "metadata": {},
   "outputs": [],
   "source": []
  },
  {
   "cell_type": "code",
   "execution_count": null,
   "metadata": {},
   "outputs": [],
   "source": []
  },
  {
   "cell_type": "code",
   "execution_count": null,
   "metadata": {},
   "outputs": [],
   "source": []
  },
  {
   "cell_type": "code",
   "execution_count": null,
   "metadata": {},
   "outputs": [],
   "source": []
  },
  {
   "cell_type": "code",
   "execution_count": null,
   "metadata": {},
   "outputs": [],
   "source": []
  },
  {
   "cell_type": "code",
   "execution_count": null,
   "metadata": {},
   "outputs": [],
   "source": []
  }
 ],
 "metadata": {
  "kernelspec": {
   "display_name": "venv",
   "language": "python",
   "name": "python3"
  },
  "language_info": {
   "codemirror_mode": {
    "name": "ipython",
    "version": 3
   },
   "file_extension": ".py",
   "mimetype": "text/x-python",
   "name": "python",
   "nbconvert_exporter": "python",
   "pygments_lexer": "ipython3",
   "version": "3.11.5"
  }
 },
 "nbformat": 4,
 "nbformat_minor": 2
}
