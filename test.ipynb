{
 "cells": [
  {
   "cell_type": "code",
   "execution_count": 9,
   "metadata": {},
   "outputs": [
    {
     "data": {
      "text/plain": [
       "[1, 4, 3, 2, 1, 2, 1, 4, 3, 2, 3, 2, 1, 4, 3]"
      ]
     },
     "execution_count": 9,
     "metadata": {},
     "output_type": "execute_result"
    }
   ],
   "source": [
    "a = [[1,2,3],[4,1,2],[3,4,1],[2,3,4],[1,2,3]]\n",
    "[_a for _aa in zip(*a) for _a in _aa]"
   ]
  },
  {
   "cell_type": "code",
   "execution_count": null,
   "metadata": {},
   "outputs": [],
   "source": [
    "input = input_raw.split(\"\\n\").map(int())\n",
    "print(\"Result 1:\", sum([1 for n in  if ]))"
   ]
  },
  {
   "cell_type": "code",
   "execution_count": null,
   "metadata": {},
   "outputs": [],
   "source": [
    "with open(\"./data_inputs/day3_input.txt\") as f:\n",
    "    input = f.read()"
   ]
  },
  {
   "cell_type": "code",
   "execution_count": 1,
   "metadata": {},
   "outputs": [],
   "source": [
    "input = [120, 130, 155, 145]"
   ]
  },
  {
   "cell_type": "code",
   "execution_count": 9,
   "metadata": {},
   "outputs": [],
   "source": [
    "string_list = input_raw.split(\"\\n\")[1:-1]\n",
    "input = []\n",
    "for s in string_list:\n",
    "    input.append(int(s))"
   ]
  },
  {
   "cell_type": "code",
   "execution_count": 12,
   "metadata": {},
   "outputs": [
    {
     "data": {
      "text/plain": [
       "2000"
      ]
     },
     "execution_count": 12,
     "metadata": {},
     "output_type": "execute_result"
    }
   ],
   "source": [
    "len(input)"
   ]
  },
  {
   "cell_type": "code",
   "execution_count": 15,
   "metadata": {},
   "outputs": [
    {
     "name": "stdout",
     "output_type": "stream",
     "text": [
      "Result 1: 1529\n"
     ]
    }
   ],
   "source": [
    "# --- Part 1 ---\n",
    "\n",
    "prev = None\n",
    "counter_down_1 = 0\n",
    "for curr in input:\n",
    "    if prev is not None:\n",
    "        if prev < curr:\n",
    "            counter_down_1 = counter_down_1 + 1\n",
    "        \n",
    "    prev = curr\n",
    "\n",
    "print(\"Result 1:\", counter_down_1)"
   ]
  },
  {
   "cell_type": "code",
   "execution_count": 20,
   "metadata": {},
   "outputs": [
    {
     "name": "stdout",
     "output_type": "stream",
     "text": [
      "Result 2: 1567\n"
     ]
    }
   ],
   "source": [
    "# --- Part 2 ---\n",
    "\n",
    "prev = None\n",
    "counter_down_2 = 0\n",
    "for i in range(len(input)-2):\n",
    "    curr = input[i] + input[i+1] + input[i+2]\n",
    "    if prev:\n",
    "        if prev < curr:\n",
    "            counter_down_2 += 1\n",
    "\n",
    "    prev = curr\n",
    "\n",
    "print(\"Result 2:\", counter_down_2)"
   ]
  },
  {
   "cell_type": "code",
   "execution_count": 22,
   "metadata": {},
   "outputs": [
    {
     "data": {
      "text/plain": [
       "1567"
      ]
     },
     "execution_count": 22,
     "metadata": {},
     "output_type": "execute_result"
    }
   ],
   "source": [
    "import numpy as np\n",
    "\n",
    "input_array = np.array(input)\n",
    "prev = input_array[0:-3] + input_array[1:-2] + input_array[2:-1]\n",
    "curr = input_array[1:-2] + input_array[2:-1] + input_array[3:]\n",
    "counter_down_2 = np.sum(prev < curr)\n",
    "counter_down_2\n"
   ]
  },
  {
   "cell_type": "code",
   "execution_count": null,
   "metadata": {},
   "outputs": [],
   "source": []
  }
 ],
 "metadata": {
  "kernelspec": {
   "display_name": "Python 3.10.4 64-bit",
   "language": "python",
   "name": "python3"
  },
  "language_info": {
   "codemirror_mode": {
    "name": "ipython",
    "version": 3
   },
   "file_extension": ".py",
   "mimetype": "text/x-python",
   "name": "python",
   "nbconvert_exporter": "python",
   "pygments_lexer": "ipython3",
   "version": "3.11.5"
  },
  "orig_nbformat": 4,
  "vscode": {
   "interpreter": {
    "hash": "1fa163922eb0b3709bbb5d8082b2465c9de796dbaacca80cbaa600e7fff3e4fe"
   }
  }
 },
 "nbformat": 4,
 "nbformat_minor": 2
}
